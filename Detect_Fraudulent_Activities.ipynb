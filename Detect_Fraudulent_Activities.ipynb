{
  "nbformat": 4,
  "nbformat_minor": 0,
  "metadata": {
    "colab": {
      "provenance": []
    },
    "kernelspec": {
      "name": "python3",
      "display_name": "Python 3"
    },
    "language_info": {
      "name": "python"
    }
  },
  "cells": [
    {
      "cell_type": "code",
      "execution_count": 222,
      "metadata": {
        "id": "cBRzcJgMZpt-"
      },
      "outputs": [],
      "source": [
        "import pandas as pd\n",
        "import numpy as np"
      ]
    },
    {
      "cell_type": "markdown",
      "source": [
        "### **Exploratory data analysis**"
      ],
      "metadata": {
        "id": "hHU7olpY6I-2"
      }
    },
    {
      "cell_type": "markdown",
      "source": [
        "Load and inspect the data"
      ],
      "metadata": {
        "id": "6kw1A6S-5-xs"
      }
    },
    {
      "cell_type": "code",
      "source": [
        "client_train = pd.read_csv(\"/content/client_train.csv\")\n",
        "client_test = pd.read_csv(\"/content/client_test.csv\")\n",
        "invoice_train = pd.read_csv(\"/content/invoice_train.csv\")\n",
        "invoice_test = pd.read_csv(\"/content/invoice_test.csv\")"
      ],
      "metadata": {
        "colab": {
          "base_uri": "https://localhost:8080/"
        },
        "id": "HNCOWEeA6AUp",
        "outputId": "65118bec-8b73-4c90-9fb9-07fd092ff1f1"
      },
      "execution_count": 223,
      "outputs": [
        {
          "output_type": "stream",
          "name": "stderr",
          "text": [
            "<ipython-input-223-ef4e5857097d>:3: DtypeWarning: Columns (4) have mixed types. Specify dtype option on import or set low_memory=False.\n",
            "  invoice_train = pd.read_csv(\"/content/invoice_train.csv\")\n"
          ]
        }
      ]
    },
    {
      "cell_type": "code",
      "source": [
        "print(\"client_train first 5 rows\\n\",client_train.head())\n",
        "print(\"invoice_train first 5 rows\\n\",invoice_train.head())"
      ],
      "metadata": {
        "colab": {
          "base_uri": "https://localhost:8080/"
        },
        "id": "Ejx5rDZRAREb",
        "outputId": "e8fe75ac-c4e4-4812-af9a-ec8ac0ad4e44"
      },
      "execution_count": 224,
      "outputs": [
        {
          "output_type": "stream",
          "name": "stdout",
          "text": [
            "client_train first 5 rows\n",
            "    disrict          client_id  client_catg  region creation_date  target\n",
            "0       60     train_Client_0           11     101    31/12/1994     0.0\n",
            "1       69     train_Client_1           11     107    29/05/2002     0.0\n",
            "2       62    train_Client_10           11     301    13/03/1986     0.0\n",
            "3       69   train_Client_100           11     105    11/07/1996     0.0\n",
            "4       62  train_Client_1000           11     303    14/10/2014     0.0\n",
            "invoice_train first 5 rows\n",
            "         client_id invoice_date  tarif_type  counter_number counter_statue  \\\n",
            "0  train_Client_0   2014-03-24          11         1335667              0   \n",
            "1  train_Client_0   2013-03-29          11         1335667              0   \n",
            "2  train_Client_0   2015-03-23          11         1335667              0   \n",
            "3  train_Client_0   2015-07-13          11         1335667              0   \n",
            "4  train_Client_0   2016-11-17          11         1335667              0   \n",
            "\n",
            "   counter_code  reading_remarque  counter_coefficient  consommation_level_1  \\\n",
            "0           203                 8                    1                    82   \n",
            "1           203                 6                    1                  1200   \n",
            "2           203                 8                    1                   123   \n",
            "3           207                 8                    1                   102   \n",
            "4           207                 9                    1                   572   \n",
            "\n",
            "   consommation_level_2  consommation_level_3  consommation_level_4  \\\n",
            "0                     0                     0                     0   \n",
            "1                   184                     0                     0   \n",
            "2                     0                     0                     0   \n",
            "3                     0                     0                     0   \n",
            "4                     0                     0                     0   \n",
            "\n",
            "   old_index  new_index  months_number counter_type  \n",
            "0      14302      14384              4         ELEC  \n",
            "1      12294      13678              4         ELEC  \n",
            "2      14624      14747              4         ELEC  \n",
            "3      14747      14849              4         ELEC  \n",
            "4      15066      15638             12         ELEC  \n"
          ]
        }
      ]
    },
    {
      "cell_type": "markdown",
      "source": [
        "there is one common feature between these two datasets which is \"client_id\""
      ],
      "metadata": {
        "id": "USBszcZLAZP3"
      }
    },
    {
      "cell_type": "code",
      "source": [
        "train = pd.merge(client_train, invoice_train, on='client_id', suffixes=('_client', '_invoice'))\n",
        "test = pd.merge(client_test, invoice_test, on='client_id', suffixes=('_client', '_invoice'))\n"
      ],
      "metadata": {
        "id": "Q9YgXPOHE1FW"
      },
      "execution_count": 225,
      "outputs": []
    },
    {
      "cell_type": "code",
      "source": [
        "print(train.shape)\n",
        "print(test.shape)"
      ],
      "metadata": {
        "colab": {
          "base_uri": "https://localhost:8080/"
        },
        "id": "6neeIhsfAR8Z",
        "outputId": "0ce17aef-7651-48c1-eb43-c381d05327eb"
      },
      "execution_count": 226,
      "outputs": [
        {
          "output_type": "stream",
          "name": "stdout",
          "text": [
            "(4476749, 21)\n",
            "(443637, 20)\n"
          ]
        }
      ]
    },
    {
      "cell_type": "markdown",
      "source": [
        "train set has one more column than test set which is the target"
      ],
      "metadata": {
        "id": "b8q5kFLjF05t"
      }
    },
    {
      "cell_type": "code",
      "source": [
        "train.dtypes"
      ],
      "metadata": {
        "colab": {
          "base_uri": "https://localhost:8080/"
        },
        "id": "tz23ZbptG4Tl",
        "outputId": "067be225-a5a2-4f85-eeba-5381f962a932"
      },
      "execution_count": 227,
      "outputs": [
        {
          "output_type": "execute_result",
          "data": {
            "text/plain": [
              "disrict                   int64\n",
              "client_id                object\n",
              "client_catg               int64\n",
              "region                    int64\n",
              "creation_date            object\n",
              "target                  float64\n",
              "invoice_date             object\n",
              "tarif_type                int64\n",
              "counter_number            int64\n",
              "counter_statue           object\n",
              "counter_code              int64\n",
              "reading_remarque          int64\n",
              "counter_coefficient       int64\n",
              "consommation_level_1      int64\n",
              "consommation_level_2      int64\n",
              "consommation_level_3      int64\n",
              "consommation_level_4      int64\n",
              "old_index                 int64\n",
              "new_index                 int64\n",
              "months_number             int64\n",
              "counter_type             object\n",
              "dtype: object"
            ]
          },
          "metadata": {},
          "execution_count": 227
        }
      ]
    },
    {
      "cell_type": "code",
      "source": [
        "train.describe()"
      ],
      "metadata": {
        "colab": {
          "base_uri": "https://localhost:8080/",
          "height": 364
        },
        "id": "P6c0TXMGHp5l",
        "outputId": "a1d1200e-cd2d-4e2e-955f-4d99db10ebca"
      },
      "execution_count": 228,
      "outputs": [
        {
          "output_type": "execute_result",
          "data": {
            "text/plain": [
              "            disrict   client_catg        region        target    tarif_type  \\\n",
              "count  4.476749e+06  4.476749e+06  4.476749e+06  4.476749e+06  4.476749e+06   \n",
              "mean   6.348246e+01  1.194381e+01  2.103584e+02  7.887688e-02  2.012804e+01   \n",
              "std    3.273403e+00  6.022452e+00  1.035828e+02  2.695465e-01  1.347256e+01   \n",
              "min    6.000000e+01  1.100000e+01  1.010000e+02  0.000000e+00  8.000000e+00   \n",
              "25%    6.200000e+01  1.100000e+01  1.030000e+02  0.000000e+00  1.100000e+01   \n",
              "50%    6.200000e+01  1.100000e+01  3.010000e+02  0.000000e+00  1.100000e+01   \n",
              "75%    6.300000e+01  1.100000e+01  3.090000e+02  0.000000e+00  4.000000e+01   \n",
              "max    6.900000e+01  5.100000e+01  3.990000e+02  1.000000e+00  4.500000e+01   \n",
              "\n",
              "       counter_number  counter_code  reading_remarque  counter_coefficient  \\\n",
              "count    4.476749e+06  4.476749e+06      4.476749e+06         4.476749e+06   \n",
              "mean     1.230587e+11  1.724884e+02      7.321702e+00         1.003040e+00   \n",
              "std      1.657267e+12  1.338871e+02      1.571654e+00         3.083466e-01   \n",
              "min      0.000000e+00  0.000000e+00      5.000000e+00         0.000000e+00   \n",
              "25%      1.211080e+05  5.000000e+00      6.000000e+00         1.000000e+00   \n",
              "50%      4.945610e+05  2.030000e+02      8.000000e+00         1.000000e+00   \n",
              "75%      1.115161e+06  2.070000e+02      9.000000e+00         1.000000e+00   \n",
              "max      2.798115e+13  6.000000e+02      4.130000e+02         5.000000e+01   \n",
              "\n",
              "       consommation_level_1  consommation_level_2  consommation_level_3  \\\n",
              "count          4.476749e+06          4.476749e+06          4.476749e+06   \n",
              "mean           4.109795e+02          1.093225e+02          2.030620e+01   \n",
              "std            7.573080e+02          1.220123e+03          1.574239e+02   \n",
              "min            0.000000e+00          0.000000e+00          0.000000e+00   \n",
              "25%            7.900000e+01          0.000000e+00          0.000000e+00   \n",
              "50%            2.740000e+02          0.000000e+00          0.000000e+00   \n",
              "75%            6.000000e+02          0.000000e+00          0.000000e+00   \n",
              "max            9.999100e+05          9.990730e+05          6.449200e+04   \n",
              "\n",
              "       consommation_level_4     old_index     new_index  months_number  \n",
              "count          4.476749e+06  4.476749e+06  4.476749e+06   4.476749e+06  \n",
              "mean           5.292588e+01  1.776700e+04  1.834970e+04   4.483095e+01  \n",
              "std            8.754725e+02  4.036693e+04  4.095321e+04   3.128335e+03  \n",
              "min            0.000000e+00  0.000000e+00  0.000000e+00   0.000000e+00  \n",
              "25%            0.000000e+00  1.791000e+03  2.056000e+03   4.000000e+00  \n",
              "50%            0.000000e+00  7.690000e+03  8.192000e+03   4.000000e+00  \n",
              "75%            0.000000e+00  2.166000e+04  2.234300e+04   4.000000e+00  \n",
              "max            5.479460e+05  2.800280e+06  2.870972e+06   6.366240e+05  "
            ],
            "text/html": [
              "\n",
              "\n",
              "  <div id=\"df-54ee2db4-47a3-4ef0-966e-ca4f2ef4f4d3\">\n",
              "    <div class=\"colab-df-container\">\n",
              "      <div>\n",
              "<style scoped>\n",
              "    .dataframe tbody tr th:only-of-type {\n",
              "        vertical-align: middle;\n",
              "    }\n",
              "\n",
              "    .dataframe tbody tr th {\n",
              "        vertical-align: top;\n",
              "    }\n",
              "\n",
              "    .dataframe thead th {\n",
              "        text-align: right;\n",
              "    }\n",
              "</style>\n",
              "<table border=\"1\" class=\"dataframe\">\n",
              "  <thead>\n",
              "    <tr style=\"text-align: right;\">\n",
              "      <th></th>\n",
              "      <th>disrict</th>\n",
              "      <th>client_catg</th>\n",
              "      <th>region</th>\n",
              "      <th>target</th>\n",
              "      <th>tarif_type</th>\n",
              "      <th>counter_number</th>\n",
              "      <th>counter_code</th>\n",
              "      <th>reading_remarque</th>\n",
              "      <th>counter_coefficient</th>\n",
              "      <th>consommation_level_1</th>\n",
              "      <th>consommation_level_2</th>\n",
              "      <th>consommation_level_3</th>\n",
              "      <th>consommation_level_4</th>\n",
              "      <th>old_index</th>\n",
              "      <th>new_index</th>\n",
              "      <th>months_number</th>\n",
              "    </tr>\n",
              "  </thead>\n",
              "  <tbody>\n",
              "    <tr>\n",
              "      <th>count</th>\n",
              "      <td>4.476749e+06</td>\n",
              "      <td>4.476749e+06</td>\n",
              "      <td>4.476749e+06</td>\n",
              "      <td>4.476749e+06</td>\n",
              "      <td>4.476749e+06</td>\n",
              "      <td>4.476749e+06</td>\n",
              "      <td>4.476749e+06</td>\n",
              "      <td>4.476749e+06</td>\n",
              "      <td>4.476749e+06</td>\n",
              "      <td>4.476749e+06</td>\n",
              "      <td>4.476749e+06</td>\n",
              "      <td>4.476749e+06</td>\n",
              "      <td>4.476749e+06</td>\n",
              "      <td>4.476749e+06</td>\n",
              "      <td>4.476749e+06</td>\n",
              "      <td>4.476749e+06</td>\n",
              "    </tr>\n",
              "    <tr>\n",
              "      <th>mean</th>\n",
              "      <td>6.348246e+01</td>\n",
              "      <td>1.194381e+01</td>\n",
              "      <td>2.103584e+02</td>\n",
              "      <td>7.887688e-02</td>\n",
              "      <td>2.012804e+01</td>\n",
              "      <td>1.230587e+11</td>\n",
              "      <td>1.724884e+02</td>\n",
              "      <td>7.321702e+00</td>\n",
              "      <td>1.003040e+00</td>\n",
              "      <td>4.109795e+02</td>\n",
              "      <td>1.093225e+02</td>\n",
              "      <td>2.030620e+01</td>\n",
              "      <td>5.292588e+01</td>\n",
              "      <td>1.776700e+04</td>\n",
              "      <td>1.834970e+04</td>\n",
              "      <td>4.483095e+01</td>\n",
              "    </tr>\n",
              "    <tr>\n",
              "      <th>std</th>\n",
              "      <td>3.273403e+00</td>\n",
              "      <td>6.022452e+00</td>\n",
              "      <td>1.035828e+02</td>\n",
              "      <td>2.695465e-01</td>\n",
              "      <td>1.347256e+01</td>\n",
              "      <td>1.657267e+12</td>\n",
              "      <td>1.338871e+02</td>\n",
              "      <td>1.571654e+00</td>\n",
              "      <td>3.083466e-01</td>\n",
              "      <td>7.573080e+02</td>\n",
              "      <td>1.220123e+03</td>\n",
              "      <td>1.574239e+02</td>\n",
              "      <td>8.754725e+02</td>\n",
              "      <td>4.036693e+04</td>\n",
              "      <td>4.095321e+04</td>\n",
              "      <td>3.128335e+03</td>\n",
              "    </tr>\n",
              "    <tr>\n",
              "      <th>min</th>\n",
              "      <td>6.000000e+01</td>\n",
              "      <td>1.100000e+01</td>\n",
              "      <td>1.010000e+02</td>\n",
              "      <td>0.000000e+00</td>\n",
              "      <td>8.000000e+00</td>\n",
              "      <td>0.000000e+00</td>\n",
              "      <td>0.000000e+00</td>\n",
              "      <td>5.000000e+00</td>\n",
              "      <td>0.000000e+00</td>\n",
              "      <td>0.000000e+00</td>\n",
              "      <td>0.000000e+00</td>\n",
              "      <td>0.000000e+00</td>\n",
              "      <td>0.000000e+00</td>\n",
              "      <td>0.000000e+00</td>\n",
              "      <td>0.000000e+00</td>\n",
              "      <td>0.000000e+00</td>\n",
              "    </tr>\n",
              "    <tr>\n",
              "      <th>25%</th>\n",
              "      <td>6.200000e+01</td>\n",
              "      <td>1.100000e+01</td>\n",
              "      <td>1.030000e+02</td>\n",
              "      <td>0.000000e+00</td>\n",
              "      <td>1.100000e+01</td>\n",
              "      <td>1.211080e+05</td>\n",
              "      <td>5.000000e+00</td>\n",
              "      <td>6.000000e+00</td>\n",
              "      <td>1.000000e+00</td>\n",
              "      <td>7.900000e+01</td>\n",
              "      <td>0.000000e+00</td>\n",
              "      <td>0.000000e+00</td>\n",
              "      <td>0.000000e+00</td>\n",
              "      <td>1.791000e+03</td>\n",
              "      <td>2.056000e+03</td>\n",
              "      <td>4.000000e+00</td>\n",
              "    </tr>\n",
              "    <tr>\n",
              "      <th>50%</th>\n",
              "      <td>6.200000e+01</td>\n",
              "      <td>1.100000e+01</td>\n",
              "      <td>3.010000e+02</td>\n",
              "      <td>0.000000e+00</td>\n",
              "      <td>1.100000e+01</td>\n",
              "      <td>4.945610e+05</td>\n",
              "      <td>2.030000e+02</td>\n",
              "      <td>8.000000e+00</td>\n",
              "      <td>1.000000e+00</td>\n",
              "      <td>2.740000e+02</td>\n",
              "      <td>0.000000e+00</td>\n",
              "      <td>0.000000e+00</td>\n",
              "      <td>0.000000e+00</td>\n",
              "      <td>7.690000e+03</td>\n",
              "      <td>8.192000e+03</td>\n",
              "      <td>4.000000e+00</td>\n",
              "    </tr>\n",
              "    <tr>\n",
              "      <th>75%</th>\n",
              "      <td>6.300000e+01</td>\n",
              "      <td>1.100000e+01</td>\n",
              "      <td>3.090000e+02</td>\n",
              "      <td>0.000000e+00</td>\n",
              "      <td>4.000000e+01</td>\n",
              "      <td>1.115161e+06</td>\n",
              "      <td>2.070000e+02</td>\n",
              "      <td>9.000000e+00</td>\n",
              "      <td>1.000000e+00</td>\n",
              "      <td>6.000000e+02</td>\n",
              "      <td>0.000000e+00</td>\n",
              "      <td>0.000000e+00</td>\n",
              "      <td>0.000000e+00</td>\n",
              "      <td>2.166000e+04</td>\n",
              "      <td>2.234300e+04</td>\n",
              "      <td>4.000000e+00</td>\n",
              "    </tr>\n",
              "    <tr>\n",
              "      <th>max</th>\n",
              "      <td>6.900000e+01</td>\n",
              "      <td>5.100000e+01</td>\n",
              "      <td>3.990000e+02</td>\n",
              "      <td>1.000000e+00</td>\n",
              "      <td>4.500000e+01</td>\n",
              "      <td>2.798115e+13</td>\n",
              "      <td>6.000000e+02</td>\n",
              "      <td>4.130000e+02</td>\n",
              "      <td>5.000000e+01</td>\n",
              "      <td>9.999100e+05</td>\n",
              "      <td>9.990730e+05</td>\n",
              "      <td>6.449200e+04</td>\n",
              "      <td>5.479460e+05</td>\n",
              "      <td>2.800280e+06</td>\n",
              "      <td>2.870972e+06</td>\n",
              "      <td>6.366240e+05</td>\n",
              "    </tr>\n",
              "  </tbody>\n",
              "</table>\n",
              "</div>\n",
              "      <button class=\"colab-df-convert\" onclick=\"convertToInteractive('df-54ee2db4-47a3-4ef0-966e-ca4f2ef4f4d3')\"\n",
              "              title=\"Convert this dataframe to an interactive table.\"\n",
              "              style=\"display:none;\">\n",
              "\n",
              "  <svg xmlns=\"http://www.w3.org/2000/svg\" height=\"24px\"viewBox=\"0 0 24 24\"\n",
              "       width=\"24px\">\n",
              "    <path d=\"M0 0h24v24H0V0z\" fill=\"none\"/>\n",
              "    <path d=\"M18.56 5.44l.94 2.06.94-2.06 2.06-.94-2.06-.94-.94-2.06-.94 2.06-2.06.94zm-11 1L8.5 8.5l.94-2.06 2.06-.94-2.06-.94L8.5 2.5l-.94 2.06-2.06.94zm10 10l.94 2.06.94-2.06 2.06-.94-2.06-.94-.94-2.06-.94 2.06-2.06.94z\"/><path d=\"M17.41 7.96l-1.37-1.37c-.4-.4-.92-.59-1.43-.59-.52 0-1.04.2-1.43.59L10.3 9.45l-7.72 7.72c-.78.78-.78 2.05 0 2.83L4 21.41c.39.39.9.59 1.41.59.51 0 1.02-.2 1.41-.59l7.78-7.78 2.81-2.81c.8-.78.8-2.07 0-2.86zM5.41 20L4 18.59l7.72-7.72 1.47 1.35L5.41 20z\"/>\n",
              "  </svg>\n",
              "      </button>\n",
              "\n",
              "\n",
              "\n",
              "    <div id=\"df-eeb86c2b-de8e-4db9-997d-645e24b3161a\">\n",
              "      <button class=\"colab-df-quickchart\" onclick=\"quickchart('df-eeb86c2b-de8e-4db9-997d-645e24b3161a')\"\n",
              "              title=\"Suggest charts.\"\n",
              "              style=\"display:none;\">\n",
              "\n",
              "<svg xmlns=\"http://www.w3.org/2000/svg\" height=\"24px\"viewBox=\"0 0 24 24\"\n",
              "     width=\"24px\">\n",
              "    <g>\n",
              "        <path d=\"M19 3H5c-1.1 0-2 .9-2 2v14c0 1.1.9 2 2 2h14c1.1 0 2-.9 2-2V5c0-1.1-.9-2-2-2zM9 17H7v-7h2v7zm4 0h-2V7h2v10zm4 0h-2v-4h2v4z\"/>\n",
              "    </g>\n",
              "</svg>\n",
              "      </button>\n",
              "    </div>\n",
              "\n",
              "<style>\n",
              "  .colab-df-quickchart {\n",
              "    background-color: #E8F0FE;\n",
              "    border: none;\n",
              "    border-radius: 50%;\n",
              "    cursor: pointer;\n",
              "    display: none;\n",
              "    fill: #1967D2;\n",
              "    height: 32px;\n",
              "    padding: 0 0 0 0;\n",
              "    width: 32px;\n",
              "  }\n",
              "\n",
              "  .colab-df-quickchart:hover {\n",
              "    background-color: #E2EBFA;\n",
              "    box-shadow: 0px 1px 2px rgba(60, 64, 67, 0.3), 0px 1px 3px 1px rgba(60, 64, 67, 0.15);\n",
              "    fill: #174EA6;\n",
              "  }\n",
              "\n",
              "  [theme=dark] .colab-df-quickchart {\n",
              "    background-color: #3B4455;\n",
              "    fill: #D2E3FC;\n",
              "  }\n",
              "\n",
              "  [theme=dark] .colab-df-quickchart:hover {\n",
              "    background-color: #434B5C;\n",
              "    box-shadow: 0px 1px 3px 1px rgba(0, 0, 0, 0.15);\n",
              "    filter: drop-shadow(0px 1px 2px rgba(0, 0, 0, 0.3));\n",
              "    fill: #FFFFFF;\n",
              "  }\n",
              "</style>\n",
              "\n",
              "    <script>\n",
              "      async function quickchart(key) {\n",
              "        const containerElement = document.querySelector('#' + key);\n",
              "        const charts = await google.colab.kernel.invokeFunction(\n",
              "            'suggestCharts', [key], {});\n",
              "      }\n",
              "    </script>\n",
              "\n",
              "      <script>\n",
              "\n",
              "function displayQuickchartButton(domScope) {\n",
              "  let quickchartButtonEl =\n",
              "    domScope.querySelector('#df-eeb86c2b-de8e-4db9-997d-645e24b3161a button.colab-df-quickchart');\n",
              "  quickchartButtonEl.style.display =\n",
              "    google.colab.kernel.accessAllowed ? 'block' : 'none';\n",
              "}\n",
              "\n",
              "        displayQuickchartButton(document);\n",
              "      </script>\n",
              "      <style>\n",
              "    .colab-df-container {\n",
              "      display:flex;\n",
              "      flex-wrap:wrap;\n",
              "      gap: 12px;\n",
              "    }\n",
              "\n",
              "    .colab-df-convert {\n",
              "      background-color: #E8F0FE;\n",
              "      border: none;\n",
              "      border-radius: 50%;\n",
              "      cursor: pointer;\n",
              "      display: none;\n",
              "      fill: #1967D2;\n",
              "      height: 32px;\n",
              "      padding: 0 0 0 0;\n",
              "      width: 32px;\n",
              "    }\n",
              "\n",
              "    .colab-df-convert:hover {\n",
              "      background-color: #E2EBFA;\n",
              "      box-shadow: 0px 1px 2px rgba(60, 64, 67, 0.3), 0px 1px 3px 1px rgba(60, 64, 67, 0.15);\n",
              "      fill: #174EA6;\n",
              "    }\n",
              "\n",
              "    [theme=dark] .colab-df-convert {\n",
              "      background-color: #3B4455;\n",
              "      fill: #D2E3FC;\n",
              "    }\n",
              "\n",
              "    [theme=dark] .colab-df-convert:hover {\n",
              "      background-color: #434B5C;\n",
              "      box-shadow: 0px 1px 3px 1px rgba(0, 0, 0, 0.15);\n",
              "      filter: drop-shadow(0px 1px 2px rgba(0, 0, 0, 0.3));\n",
              "      fill: #FFFFFF;\n",
              "    }\n",
              "  </style>\n",
              "\n",
              "      <script>\n",
              "        const buttonEl =\n",
              "          document.querySelector('#df-54ee2db4-47a3-4ef0-966e-ca4f2ef4f4d3 button.colab-df-convert');\n",
              "        buttonEl.style.display =\n",
              "          google.colab.kernel.accessAllowed ? 'block' : 'none';\n",
              "\n",
              "        async function convertToInteractive(key) {\n",
              "          const element = document.querySelector('#df-54ee2db4-47a3-4ef0-966e-ca4f2ef4f4d3');\n",
              "          const dataTable =\n",
              "            await google.colab.kernel.invokeFunction('convertToInteractive',\n",
              "                                                     [key], {});\n",
              "          if (!dataTable) return;\n",
              "\n",
              "          const docLinkHtml = 'Like what you see? Visit the ' +\n",
              "            '<a target=\"_blank\" href=https://colab.research.google.com/notebooks/data_table.ipynb>data table notebook</a>'\n",
              "            + ' to learn more about interactive tables.';\n",
              "          element.innerHTML = '';\n",
              "          dataTable['output_type'] = 'display_data';\n",
              "          await google.colab.output.renderOutput(dataTable, element);\n",
              "          const docLink = document.createElement('div');\n",
              "          docLink.innerHTML = docLinkHtml;\n",
              "          element.appendChild(docLink);\n",
              "        }\n",
              "      </script>\n",
              "    </div>\n",
              "  </div>\n"
            ]
          },
          "metadata": {},
          "execution_count": 228
        }
      ]
    },
    {
      "cell_type": "markdown",
      "source": [
        "Data cleaning and preprocessing"
      ],
      "metadata": {
        "id": "oR8EWytx6A5a"
      }
    },
    {
      "cell_type": "code",
      "source": [
        "print(train.count(),\"\\n\")\n",
        "print(test.count())"
      ],
      "metadata": {
        "colab": {
          "base_uri": "https://localhost:8080/"
        },
        "id": "DCW8LvwQ6EVU",
        "outputId": "1b67f8ba-f0e3-4eca-d01e-127780e9f38d"
      },
      "execution_count": 229,
      "outputs": [
        {
          "output_type": "stream",
          "name": "stdout",
          "text": [
            "disrict                 4476749\n",
            "client_id               4476749\n",
            "client_catg             4476749\n",
            "region                  4476749\n",
            "creation_date           4476749\n",
            "target                  4476749\n",
            "invoice_date            4476749\n",
            "tarif_type              4476749\n",
            "counter_number          4476749\n",
            "counter_statue          4476749\n",
            "counter_code            4476749\n",
            "reading_remarque        4476749\n",
            "counter_coefficient     4476749\n",
            "consommation_level_1    4476749\n",
            "consommation_level_2    4476749\n",
            "consommation_level_3    4476749\n",
            "consommation_level_4    4476749\n",
            "old_index               4476749\n",
            "new_index               4476749\n",
            "months_number           4476749\n",
            "counter_type            4476749\n",
            "dtype: int64 \n",
            "\n",
            "disrict                 443637\n",
            "client_id               443637\n",
            "client_catg             443637\n",
            "region                  443637\n",
            "creation_date           443637\n",
            "invoice_date            443637\n",
            "tarif_type              443637\n",
            "counter_number          443637\n",
            "counter_statue          443637\n",
            "counter_code            443637\n",
            "reading_remarque        443636\n",
            "counter_coefficient     443636\n",
            "consommation_level_1    443636\n",
            "consommation_level_2    443636\n",
            "consommation_level_3    443636\n",
            "consommation_level_4    443636\n",
            "old_index               443636\n",
            "new_index               443636\n",
            "months_number           443636\n",
            "counter_type            443636\n",
            "dtype: int64\n"
          ]
        }
      ]
    },
    {
      "cell_type": "code",
      "source": [
        "print(train.isnull().sum())\n",
        "print(test.isnull().sum())"
      ],
      "metadata": {
        "colab": {
          "base_uri": "https://localhost:8080/"
        },
        "id": "Pq-Vkz3h6IU0",
        "outputId": "a33a4252-aed2-4ce0-b821-97b3043455b6"
      },
      "execution_count": 230,
      "outputs": [
        {
          "output_type": "stream",
          "name": "stdout",
          "text": [
            "disrict                 0\n",
            "client_id               0\n",
            "client_catg             0\n",
            "region                  0\n",
            "creation_date           0\n",
            "target                  0\n",
            "invoice_date            0\n",
            "tarif_type              0\n",
            "counter_number          0\n",
            "counter_statue          0\n",
            "counter_code            0\n",
            "reading_remarque        0\n",
            "counter_coefficient     0\n",
            "consommation_level_1    0\n",
            "consommation_level_2    0\n",
            "consommation_level_3    0\n",
            "consommation_level_4    0\n",
            "old_index               0\n",
            "new_index               0\n",
            "months_number           0\n",
            "counter_type            0\n",
            "dtype: int64\n",
            "disrict                 0\n",
            "client_id               0\n",
            "client_catg             0\n",
            "region                  0\n",
            "creation_date           0\n",
            "invoice_date            0\n",
            "tarif_type              0\n",
            "counter_number          0\n",
            "counter_statue          0\n",
            "counter_code            0\n",
            "reading_remarque        1\n",
            "counter_coefficient     1\n",
            "consommation_level_1    1\n",
            "consommation_level_2    1\n",
            "consommation_level_3    1\n",
            "consommation_level_4    1\n",
            "old_index               1\n",
            "new_index               1\n",
            "months_number           1\n",
            "counter_type            1\n",
            "dtype: int64\n"
          ]
        }
      ]
    },
    {
      "cell_type": "code",
      "source": [
        "duplicate_rows = train[train.duplicated()]\n",
        "len(duplicate_rows)"
      ],
      "metadata": {
        "colab": {
          "base_uri": "https://localhost:8080/"
        },
        "id": "LdxSRSY1KGuh",
        "outputId": "47114d31-72af-4716-ce52-b5c1ec6df84c"
      },
      "execution_count": 231,
      "outputs": [
        {
          "output_type": "execute_result",
          "data": {
            "text/plain": [
              "11"
            ]
          },
          "metadata": {},
          "execution_count": 231
        }
      ]
    },
    {
      "cell_type": "code",
      "source": [
        "train.dtypes"
      ],
      "metadata": {
        "colab": {
          "base_uri": "https://localhost:8080/"
        },
        "id": "NATIuaFLPKYH",
        "outputId": "45f663ce-0d27-401c-ec59-26c9d7b53402"
      },
      "execution_count": 232,
      "outputs": [
        {
          "output_type": "execute_result",
          "data": {
            "text/plain": [
              "disrict                   int64\n",
              "client_id                object\n",
              "client_catg               int64\n",
              "region                    int64\n",
              "creation_date            object\n",
              "target                  float64\n",
              "invoice_date             object\n",
              "tarif_type                int64\n",
              "counter_number            int64\n",
              "counter_statue           object\n",
              "counter_code              int64\n",
              "reading_remarque          int64\n",
              "counter_coefficient       int64\n",
              "consommation_level_1      int64\n",
              "consommation_level_2      int64\n",
              "consommation_level_3      int64\n",
              "consommation_level_4      int64\n",
              "old_index                 int64\n",
              "new_index                 int64\n",
              "months_number             int64\n",
              "counter_type             object\n",
              "dtype: object"
            ]
          },
          "metadata": {},
          "execution_count": 232
        }
      ]
    },
    {
      "cell_type": "markdown",
      "source": [
        "convert every column that has an object data type"
      ],
      "metadata": {
        "id": "lPc-gktpVOqF"
      }
    },
    {
      "cell_type": "code",
      "source": [
        "train['creation_date'] = pd.to_datetime(train['creation_date'], format='%d/%m/%Y').astype(int)\n",
        "train['invoice_date'] = pd.to_datetime(train['invoice_date'], format='%Y-%m-%d').astype(int)\n",
        "test['creation_date'] = pd.to_datetime(test['creation_date'], format='%d/%m/%Y').astype(int)\n",
        "test['invoice_date'] = pd.to_datetime(test['invoice_date'], format='%Y-%m-%d').astype(int)"
      ],
      "metadata": {
        "id": "uBrmHdBK6Mdj"
      },
      "execution_count": 233,
      "outputs": []
    },
    {
      "cell_type": "code",
      "source": [
        "train['client_id'] = train['client_id'].str.replace('train_Client_', '')\n",
        "train['client_id'] = pd.to_numeric(train['client_id'])\n",
        "test['client_id'] = test['client_id'].str.replace('test_Client_', '')\n",
        "test['client_id'] = pd.to_numeric(test['client_id'])"
      ],
      "metadata": {
        "id": "eVF_o8iCRYGa"
      },
      "execution_count": 234,
      "outputs": []
    },
    {
      "cell_type": "code",
      "source": [
        "train[\"counter_statue\"] = pd.to_numeric(train[\"counter_statue\"], errors='coerce')\n",
        "test[\"counter_statue\"] = pd.to_numeric(test[\"counter_statue\"], errors='coerce')"
      ],
      "metadata": {
        "id": "Tf6Jv_QpR6fX"
      },
      "execution_count": 235,
      "outputs": []
    },
    {
      "cell_type": "code",
      "source": [
        "train[\"counter_type\"].value_counts()"
      ],
      "metadata": {
        "colab": {
          "base_uri": "https://localhost:8080/"
        },
        "id": "AkRA5MDjTcw4",
        "outputId": "6bbc926d-27a9-4dd8-9492-f8872978b68b"
      },
      "execution_count": 236,
      "outputs": [
        {
          "output_type": "execute_result",
          "data": {
            "text/plain": [
              "ELEC    3079406\n",
              "GAZ     1397343\n",
              "Name: counter_type, dtype: int64"
            ]
          },
          "metadata": {},
          "execution_count": 236
        }
      ]
    },
    {
      "cell_type": "code",
      "source": [
        "train = pd.get_dummies(train, columns = ['counter_type'])\n",
        "test = pd.get_dummies(test, columns = ['counter_type'])"
      ],
      "metadata": {
        "id": "BWnNWksYPI2D"
      },
      "execution_count": 237,
      "outputs": []
    },
    {
      "cell_type": "code",
      "source": [
        "train['counter_type_ELEC'] = train['counter_type_ELEC'].astype('int32')\n",
        "train['counter_type_GAZ'] = train['counter_type_GAZ'].astype('int32')\n",
        "\n",
        "test['counter_type_ELEC'] = test['counter_type_ELEC'].astype('int32')\n",
        "test['counter_type_GAZ'] = test['counter_type_GAZ'].astype('int32')"
      ],
      "metadata": {
        "id": "p_O-DgENQXbQ"
      },
      "execution_count": 238,
      "outputs": []
    },
    {
      "cell_type": "code",
      "source": [
        "train.dtypes"
      ],
      "metadata": {
        "colab": {
          "base_uri": "https://localhost:8080/"
        },
        "id": "qIB8j7myROJO",
        "outputId": "5f0ea490-fc8a-4165-f008-c40adb47feff"
      },
      "execution_count": 239,
      "outputs": [
        {
          "output_type": "execute_result",
          "data": {
            "text/plain": [
              "disrict                   int64\n",
              "client_id                 int64\n",
              "client_catg               int64\n",
              "region                    int64\n",
              "creation_date             int64\n",
              "target                  float64\n",
              "invoice_date              int64\n",
              "tarif_type                int64\n",
              "counter_number            int64\n",
              "counter_statue          float64\n",
              "counter_code              int64\n",
              "reading_remarque          int64\n",
              "counter_coefficient       int64\n",
              "consommation_level_1      int64\n",
              "consommation_level_2      int64\n",
              "consommation_level_3      int64\n",
              "consommation_level_4      int64\n",
              "old_index                 int64\n",
              "new_index                 int64\n",
              "months_number             int64\n",
              "counter_type_ELEC         int32\n",
              "counter_type_GAZ          int32\n",
              "dtype: object"
            ]
          },
          "metadata": {},
          "execution_count": 239
        }
      ]
    },
    {
      "cell_type": "markdown",
      "source": [
        "since its just a few value that is missing from some feature, we are going to drop it"
      ],
      "metadata": {
        "id": "qA7rIu_mJbbe"
      }
    },
    {
      "cell_type": "code",
      "source": [
        "train = train.dropna()\n",
        "train.count()"
      ],
      "metadata": {
        "colab": {
          "base_uri": "https://localhost:8080/"
        },
        "id": "1eGCFhbXJRHO",
        "outputId": "b8f15b09-20ed-4bb3-9bca-219764cdc379"
      },
      "execution_count": 240,
      "outputs": [
        {
          "output_type": "execute_result",
          "data": {
            "text/plain": [
              "disrict                 4476736\n",
              "client_id               4476736\n",
              "client_catg             4476736\n",
              "region                  4476736\n",
              "creation_date           4476736\n",
              "target                  4476736\n",
              "invoice_date            4476736\n",
              "tarif_type              4476736\n",
              "counter_number          4476736\n",
              "counter_statue          4476736\n",
              "counter_code            4476736\n",
              "reading_remarque        4476736\n",
              "counter_coefficient     4476736\n",
              "consommation_level_1    4476736\n",
              "consommation_level_2    4476736\n",
              "consommation_level_3    4476736\n",
              "consommation_level_4    4476736\n",
              "old_index               4476736\n",
              "new_index               4476736\n",
              "months_number           4476736\n",
              "counter_type_ELEC       4476736\n",
              "counter_type_GAZ        4476736\n",
              "dtype: int64"
            ]
          },
          "metadata": {},
          "execution_count": 240
        }
      ]
    },
    {
      "cell_type": "code",
      "source": [
        "test = test.dropna()\n",
        "test.count()"
      ],
      "metadata": {
        "colab": {
          "base_uri": "https://localhost:8080/"
        },
        "id": "_5H9bSXLJ3Ym",
        "outputId": "44f19365-cdf1-4945-e442-dcf113bed121"
      },
      "execution_count": 241,
      "outputs": [
        {
          "output_type": "execute_result",
          "data": {
            "text/plain": [
              "disrict                 443636\n",
              "client_id               443636\n",
              "client_catg             443636\n",
              "region                  443636\n",
              "creation_date           443636\n",
              "invoice_date            443636\n",
              "tarif_type              443636\n",
              "counter_number          443636\n",
              "counter_statue          443636\n",
              "counter_code            443636\n",
              "reading_remarque        443636\n",
              "counter_coefficient     443636\n",
              "consommation_level_1    443636\n",
              "consommation_level_2    443636\n",
              "consommation_level_3    443636\n",
              "consommation_level_4    443636\n",
              "old_index               443636\n",
              "new_index               443636\n",
              "months_number           443636\n",
              "counter_type_ELEC       443636\n",
              "counter_type_GAZ        443636\n",
              "dtype: int64"
            ]
          },
          "metadata": {},
          "execution_count": 241
        }
      ]
    },
    {
      "cell_type": "markdown",
      "source": [
        "finally, check on the shape again of each set to make sure everything is alright"
      ],
      "metadata": {
        "id": "quYIgii1T8Ik"
      }
    },
    {
      "cell_type": "code",
      "source": [
        "print(train.shape)\n",
        "print(test.shape)"
      ],
      "metadata": {
        "colab": {
          "base_uri": "https://localhost:8080/"
        },
        "id": "a57moyfPSdRw",
        "outputId": "72b0fe81-6353-4f8d-8fa5-03746728ba6b"
      },
      "execution_count": 242,
      "outputs": [
        {
          "output_type": "stream",
          "name": "stdout",
          "text": [
            "(4476736, 22)\n",
            "(443636, 21)\n"
          ]
        }
      ]
    },
    {
      "cell_type": "code",
      "source": [
        "import seaborn as sns\n",
        "\n",
        "corr_matrix = train.corr()\n",
        "\n",
        "sns.heatmap(data=corr_matrix, cmap='YlOrRd')"
      ],
      "metadata": {
        "colab": {
          "base_uri": "https://localhost:8080/",
          "height": 597
        },
        "id": "djr4G9IkHYyZ",
        "outputId": "3214ff49-cf5b-4b48-fed3-e7bf7c1efd19"
      },
      "execution_count": 243,
      "outputs": [
        {
          "output_type": "execute_result",
          "data": {
            "text/plain": [
              "<Axes: >"
            ]
          },
          "metadata": {},
          "execution_count": 243
        },
        {
          "output_type": "display_data",
          "data": {
            "text/plain": [
              "<Figure size 640x480 with 2 Axes>"
            ],
            "image/png": "[encoded data removed]"
          },
          "metadata": {}
        }
      ]
    },
    {
      "cell_type": "markdown",
      "source": [
        "Split the data"
      ],
      "metadata": {
        "id": "6iHSdOUO6Ml2"
      }
    },
    {
      "cell_type": "code",
      "source": [
        "from sklearn.model_selection import train_test_split\n",
        "\n",
        "y = train['target'].values\n",
        "X = train.drop('target', axis=1, inplace=False)\n",
        "\n",
        "x_train, x_test, y_train, y_test = train_test_split(X, y, test_size=0.2, random_state=42)"
      ],
      "metadata": {
        "id": "XiiN5lfv6P47"
      },
      "execution_count": 244,
      "outputs": []
    },
    {
      "cell_type": "markdown",
      "source": [
        "Train first model"
      ],
      "metadata": {
        "id": "1iSpqSYK6QNX"
      }
    },
    {
      "cell_type": "code",
      "source": [
        "from sklearn.linear_model import ElasticNet\n",
        "\n",
        "model = ElasticNet(alpha=0.1, l1_ratio=0.5)\n",
        "model.fit(x_train, y_train)\n",
        "\n",
        "y_pred = model.predict(x_test)\n",
        "print(y_pred)"
      ],
      "metadata": {
        "id": "nL-bd4tq6aZw"
      },
      "execution_count": null,
      "outputs": []
    },
    {
      "cell_type": "markdown",
      "source": [
        "Evaluate first model"
      ],
      "metadata": {
        "id": "qAgQm8D26alL"
      }
    },
    {
      "cell_type": "code",
      "source": [
        "from sklearn.metrics import mean_squared_error, mean_absolute_error, r2_score\n",
        "\n",
        "mse = mean_squared_error(y_test, y_pred)\n",
        "rmse = mean_squared_error(y_test, y_pred, squared=False)\n",
        "mae = mean_absolute_error(y_test, y_pred)\n",
        "r2 = r2_score(y_test, y_pred)\n",
        "\n",
        "\n",
        "print('MSE:', mse)\n",
        "print('RMSE:', rmse)\n",
        "print('MAE:', mae)\n",
        "print('R-squared:', r2)"
      ],
      "metadata": {
        "id": "WYkb1rlM6bfG"
      },
      "execution_count": null,
      "outputs": []
    },
    {
      "cell_type": "code",
      "source": [
        "score = model.score(x_test, y_test)\n",
        "print('Model Score:', score)"
      ],
      "metadata": {
        "id": "BvFXwV66RWES"
      },
      "execution_count": null,
      "outputs": []
    },
    {
      "cell_type": "markdown",
      "source": [
        "Train second model"
      ],
      "metadata": {
        "id": "bLjtokBM0oCn"
      }
    },
    {
      "cell_type": "code",
      "source": [
        "from sklearn.ensemble import RandomForestRegressor\n",
        "\n",
        "model2 = RandomForestRegressor(n_estimators=100, random_state=42)\n",
        "model2.fit(x_train, y_train)\n",
        "\n",
        "y_pred2 = model2.predict(x_test)\n",
        "print(y_pred2)"
      ],
      "metadata": {
        "colab": {
          "base_uri": "https://localhost:8080/"
        },
        "id": "Ca975u8B0t8W",
        "outputId": "c4cf82ea-aa66-49f1-c604-b7137ef94819"
      },
      "execution_count": 218,
      "outputs": [
        {
          "output_type": "stream",
          "name": "stdout",
          "text": [
            "[0.03 0.03 0.   ... 0.   0.   0.  ]\n"
          ]
        }
      ]
    },
    {
      "cell_type": "markdown",
      "source": [
        "Evaluate second model"
      ],
      "metadata": {
        "id": "RVTTU4XA0tEN"
      }
    },
    {
      "cell_type": "code",
      "source": [
        "mse2 = mean_squared_error(y_test, y_pred2)\n",
        "rmse2 = mean_squared_error(y_test, y_pred2, squared=False)\n",
        "mae2 = mean_absolute_error(y_test, y_pred2)\n",
        "r2_2 = r2_score(y_test, y_pred2)\n",
        "\n",
        "\n",
        "print('MSE:', mse2)\n",
        "print('RMSE:', rmse2)\n",
        "print('MAE:', mae2)\n",
        "print('R-squared:', r2_2)"
      ],
      "metadata": {
        "colab": {
          "base_uri": "https://localhost:8080/"
        },
        "id": "R9M_8MDF3EcF",
        "outputId": "c040749b-0971-4d09-eda0-aca1af4e654a"
      },
      "execution_count": 219,
      "outputs": [
        {
          "output_type": "stream",
          "name": "stdout",
          "text": [
            "MSE: 0.004879708113493301\n",
            "RMSE: 0.06985490758345687\n",
            "MAE: 0.020203864865951566\n",
            "R-squared: 0.9328408191063756\n"
          ]
        }
      ]
    },
    {
      "cell_type": "code",
      "source": [
        "score2 = model2.score(x_test, y_test)\n",
        "print('Model Score:', score2)"
      ],
      "metadata": {
        "colab": {
          "base_uri": "https://localhost:8080/"
        },
        "id": "J9sfQDZ002Fa",
        "outputId": "04ff7115-0d6a-4309-c078-062de1936224"
      },
      "execution_count": 220,
      "outputs": [
        {
          "output_type": "stream",
          "name": "stdout",
          "text": [
            "Model Score: 0.9328408191063756\n"
          ]
        }
      ]
    },
    {
      "cell_type": "markdown",
      "source": [
        "choosing the model with the best score"
      ],
      "metadata": {
        "id": "o7kjyV4v_aos"
      }
    },
    {
      "cell_type": "markdown",
      "source": [
        "Apply the model to the new data"
      ],
      "metadata": {
        "id": "-ianGglp6bsD"
      }
    },
    {
      "cell_type": "code",
      "source": [
        "pred_testData = model2.predict(test)\n",
        "\n",
        "client_id = test['client_id']\n",
        "\n",
        "results = np.column_stack((client_id, pred_testData))\n",
        "\n",
        "results_df = pd.DataFrame(results, columns=['Client ID', 'Predicted Value'])\n",
        "results_df.to_csv('predictions.csv', index=False)\n",
        "print(pred_testData)"
      ],
      "metadata": {
        "colab": {
          "base_uri": "https://localhost:8080/"
        },
        "id": "hr-CROMX6ejo",
        "outputId": "2cf5e801-c43f-4d27-a240-348ab2e234ec"
      },
      "execution_count": 221,
      "outputs": [
        {
          "output_type": "stream",
          "name": "stdout",
          "text": [
            "[0.32 0.31 0.39 ... 0.   0.   0.  ]\n"
          ]
        }
      ]
    }
  ]
}